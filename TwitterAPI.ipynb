{
 "cells": [
  {
   "cell_type": "markdown",
   "metadata": {},
   "source": [
    "# Access Twitter API\n",
    "\n",
    "You are free to use or adapt this notebook for any purpose you'd like. However, please respect the [Simplified BSD License](https://github.com/ptwobrussell/Mining-the-Social-Web-2nd-Edition/blob/master/LICENSE.txt) that governs its use."
   ]
  },
  {
   "cell_type": "markdown",
   "metadata": {},
   "source": [
    "## Twitter API Access\n",
    "\n",
    "Twitter implements OAuth 1.0A as its standard authentication mechanism, and in order to use it to make requests to Twitter's API, you'll need to go to https://apps.twitter.com/ and create a sample application.\n",
    "\n",
    "Choose any name for your application, write a description and use `http://google.com` for the website. Depending on your country, you may need to first have your phone number updated in your Twitter profile.\n",
    "\n",
    "Click on the **Key and Access Tokens** tab. There are four primary identifiers you'll need to note for an OAuth 1.0A workflow: \n",
    "\n",
    "* consumer key, \n",
    "* consumer secret, \n",
    "* access token, and \n",
    "* access token secret (Click on Create Access Token to create those).\n",
    "\n",
    "Note that you will need an ordinary Twitter account in order to login, create an app, and get these credentials."
   ]
  },
  {
   "cell_type": "markdown",
   "metadata": {},
   "source": [
    "The first time you execute the notebook, add all credentials so that you can save them in the `pkl` file, then you can remove the secret keys from the notebook because they will just be loaded from the `pkl` file.\n",
    "\n",
    "The `pkl` file contains sensitive information that can be used to take control of your twitter acccount, **do not share it**."
   ]
  },
  {
   "cell_type": "code",
   "execution_count": 142,
   "metadata": {
    "collapsed": true
   },
   "outputs": [],
   "source": [
    "import pickle\n",
    "import os\n",
    "import twitter\n",
    "import json\n",
    "from collections import Counter\n",
    "import matplotlib\n",
    "import matplotlib.pyplot as plt\n",
    "%matplotlib inline"
   ]
  },
  {
   "cell_type": "code",
   "execution_count": 4,
   "metadata": {},
   "outputs": [],
   "source": [
    "if not os.path.exists('secret_twitter_credentials.pkl'):\n",
    "    Twitter={}\n",
    "    Twitter['Consumer Key'] = '' # enter your consumer key here, then after storing it into your pkl file delete it \n",
    "    Twitter['Consumer Secret'] = '' # your consumer secret\n",
    "    Twitter['Access Token'] = ''    # your access token\n",
    "    Twitter['Access Token Secret'] = '' # your Access Token Secret\n",
    "    with open('secret_twitter_credentials.pkl','wb') as f:\n",
    "        pickle.dump(Twitter, f)\n",
    "else:\n",
    "    Twitter=pickle.load(open('secret_twitter_credentials.pkl','rb'))"
   ]
  },
  {
   "cell_type": "markdown",
   "metadata": {},
   "source": [
    "## Authorizing an application to access Twitter account data"
   ]
  },
  {
   "cell_type": "code",
   "execution_count": 9,
   "metadata": {},
   "outputs": [
    {
     "data": {
      "text/plain": [
       "twitter.api.Twitter"
      ]
     },
     "execution_count": 9,
     "metadata": {},
     "output_type": "execute_result"
    }
   ],
   "source": [
    "# creates an authentication object\n",
    "auth = twitter.oauth.OAuth(Twitter['Access Token'],\n",
    "                           Twitter['Access Token Secret'],\n",
    "                           Twitter['Consumer Key'],\n",
    "                           Twitter['Consumer Secret'])\n",
    "\n",
    "# authentication is used to create a Twitter API object\n",
    "twitter_api = twitter.Twitter(auth=auth)\n",
    "\n",
    "# Nothing to see by displaying twitter_api except that it's now a\n",
    "# defined variable\n",
    "\n",
    "type(twitter_api)"
   ]
  },
  {
   "cell_type": "markdown",
   "metadata": {},
   "source": [
    "## Retrieving trends in a particular location"
   ]
  },
  {
   "cell_type": "markdown",
   "metadata": {},
   "source": [
    "Trending topics are hashtags (#example) or the words that are currently popular. They are categorized by country or city.\n",
    "\n",
    "Twitter identifies locations using the [Yahoo! Where On Earth ID](http://woeid.rosselliot.co.nz). The Yahoo! Where On Earth ID for the entire world is 1."
   ]
  },
  {
   "cell_type": "code",
   "execution_count": 33,
   "metadata": {
    "collapsed": true
   },
   "outputs": [],
   "source": [
    "WORLD_WOE_ID = 1\n",
    "US_WOE_ID = 23424977\n",
    "LOCAL_WOE_ID = 2486340 #The WOEID for Sacramento - you can change it to your local WOEID"
   ]
  },
  {
   "cell_type": "markdown",
   "metadata": {},
   "source": [
    "Returns top 50 popular trends in the specified location:"
   ]
  },
  {
   "cell_type": "code",
   "execution_count": 34,
   "metadata": {},
   "outputs": [],
   "source": [
    "world_trends = twitter_api.trends.place(_id=WORLD_WOE_ID)\n",
    "us_trends = twitter_api.trends.place(_id=US_WOE_ID)\n",
    "local_trends = twitter_api.trends.place(_id=LOCAL_WOE_ID)"
   ]
  },
  {
   "cell_type": "code",
   "execution_count": 65,
   "metadata": {},
   "outputs": [
    {
     "name": "stdout",
     "output_type": "stream",
     "text": [
      "<class 'twitter.api.TwitterListResponse'>\n",
      "<type 'dict'>\n",
      "[u'created_at', u'trends', u'as_of', u'locations']\n"
     ]
    }
   ],
   "source": [
    "print type(us_trends)\n",
    "\n",
    "trends = us_trends[0]\n",
    "print type(trends)\n",
    "print trends.keys()"
   ]
  },
  {
   "cell_type": "code",
   "execution_count": 68,
   "metadata": {},
   "outputs": [
    {
     "name": "stdout",
     "output_type": "stream",
     "text": [
      "[{u'woeid': 23424977, u'name': u'United States'}]\n",
      "2018-05-04T23:13:18Z\n",
      "2018-05-04T23:19:10Z\n",
      "<type 'list'>\n",
      "Number of trends: 50\n",
      "The most popular trend: {u'url': u'http://twitter.com/search?q=%22Matt+Harvey%22', u'query': u'%22Matt+Harvey%22', u'tweet_volume': 18595, u'name': u'Matt Harvey', u'promoted_content': None}\n"
     ]
    }
   ],
   "source": [
    "print trends['locations']\n",
    "print trends['created_at']\n",
    "print trends['as_of']\n",
    "\n",
    "trends_tr = trends['trends']\n",
    "print type(trends_tr)\n",
    "print 'Number of trends:', len(trends_tr)\n",
    "print 'The most popular trend:', trends_tr[0]"
   ]
  },
  {
   "cell_type": "markdown",
   "metadata": {},
   "source": [
    "## Displaying API responses as JSON format"
   ]
  },
  {
   "cell_type": "markdown",
   "metadata": {},
   "source": [
    "The API response is in JSON format, which is a data format used to transfer data on the web. It is roughly equivalent to nested Python dictionaries and lists."
   ]
  },
  {
   "cell_type": "code",
   "execution_count": 77,
   "metadata": {},
   "outputs": [
    {
     "name": "stdout",
     "output_type": "stream",
     "text": [
      "[\n",
      " {\n",
      "  \"url\": \"http://twitter.com/search?q=%22Matt+Harvey%22\", \n",
      "  \"query\": \"%22Matt+Harvey%22\", \n",
      "  \"tweet_volume\": 18595, \n",
      "  \"name\": \"Matt Harvey\", \n",
      "  \"promoted_content\": null\n",
      " }, \n",
      " {\n",
      "  \"url\": \"http://twitter.com/search?q=%22DJ+Khaled%22\", \n",
      "  \"query\": \"%22DJ+Khaled%22\", \n",
      "  \"tweet_volume\": 102294, \n",
      "  \"name\": \"DJ Khaled\", \n",
      "  \"promoted_content\": null\n",
      " }, \n",
      " {\n",
      "  \"url\": \"http://twitter.com/search?q=%22Monomoy+Girl%22\", \n",
      "  \"query\": \"%22Monomoy+Girl%22\", \n",
      "  \"tweet_volume\": null, \n",
      "  \"name\": \"Monomoy Girl\", \n",
      "  \"promoted_content\": null\n",
      " }, \n",
      " {\n",
      "  \"url\": \"http://twitter.com/search?q=%23MillennialBedtimeStories\", \n",
      "  \"query\": \"%23MillennialBedtimeStories\", \n",
      "  \"tweet_volume\": null, \n",
      "  \"name\": \"#MillennialBedtimeStories\", \n",
      "  \"promoted_content\": null\n",
      " }, \n",
      " {\n",
      "  \"url\": \"http://twitter.com/search?q=%23NRAConvention\", \n",
      "  \"query\": \"%23NRAConvention\", \n",
      "  \"tweet_volume\": 34500, \n",
      "  \"name\": \"#NRAConvention\", \n",
      "  \"promoted_content\": null\n",
      " }, \n",
      " {\n",
      "  \"url\": \"http://twitter.com/search?q=%23YeahYoureWelcome\", \n",
      "  \"query\": \"%23YeahYoureWelcome\", \n",
      "  \"tweet_volume\": null, \n",
      "  \"name\": \"#YeahYoureWelcome\", \n",
      "  \"promoted_content\": null\n",
      " }, \n",
      " {\n",
      "  \"url\": \"http://twitter.com/search?q=%23JEGS200\", \n",
      "  \"query\": \"%23JEGS200\", \n",
      "  \"tweet_volume\": null, \n",
      "  \"name\": \"#JEGS200\", \n",
      "  \"promoted_content\": null\n",
      " }, \n",
      " {\n",
      "  \"url\": \"http://twitter.com/search?q=%22Tedy+Bruschi%22\", \n",
      "  \"query\": \"%22Tedy+Bruschi%22\", \n",
      "  \"tweet_volume\": null, \n",
      "  \"name\": \"Tedy Bruschi\", \n",
      "  \"promoted_content\": null\n",
      " }, \n",
      " {\n",
      "  \"url\": \"http://twitter.com/search?q=%22Michael+Skakel%22\", \n",
      "  \"query\": \"%22Michael+Skakel%22\", \n",
      "  \"tweet_volume\": null, \n",
      "  \"name\": \"Michael Skakel\", \n",
      "  \"promoted_content\": null\n",
      " }, \n",
      " {\n",
      "  \"url\": \"http://twitter.com/search?q=%22Smash+Mouth%22\", \n",
      "  \"query\": \"%22Smash+Mouth%22\", \n",
      "  \"tweet_volume\": null, \n",
      "  \"name\": \"Smash Mouth\", \n",
      "  \"promoted_content\": null\n",
      " }, \n",
      " {\n",
      "  \"url\": \"http://twitter.com/search?q=Brighton\", \n",
      "  \"query\": \"Brighton\", \n",
      "  \"tweet_volume\": 63068, \n",
      "  \"name\": \"Brighton\", \n",
      "  \"promoted_content\": null\n",
      " }, \n",
      " {\n",
      "  \"url\": \"http://twitter.com/search?q=%22Amber+Alert%22\", \n",
      "  \"query\": \"%22Amber+Alert%22\", \n",
      "  \"tweet_volume\": null, \n",
      "  \"name\": \"Amber Alert\", \n",
      "  \"promoted_content\": null\n",
      " }, \n",
      " {\n",
      "  \"url\": \"http://twitter.com/search?q=%2257%2C000+Hondurans%22\", \n",
      "  \"query\": \"%2257%2C000+Hondurans%22\", \n",
      "  \"tweet_volume\": null, \n",
      "  \"name\": \"57,000 Hondurans\", \n",
      "  \"promoted_content\": null\n",
      " }, \n",
      " {\n",
      "  \"url\": \"http://twitter.com/search?q=Manafort\", \n",
      "  \"query\": \"Manafort\", \n",
      "  \"tweet_volume\": 146255, \n",
      "  \"name\": \"Manafort\", \n",
      "  \"promoted_content\": null\n",
      " }, \n",
      " {\n",
      "  \"url\": \"http://twitter.com/search?q=%22Fort+Mill%22\", \n",
      "  \"query\": \"%22Fort+Mill%22\", \n",
      "  \"tweet_volume\": null, \n",
      "  \"name\": \"Fort Mill\", \n",
      "  \"promoted_content\": null\n",
      " }, \n",
      " {\n",
      "  \"url\": \"http://twitter.com/search?q=%23BHAMUN\", \n",
      "  \"query\": \"%23BHAMUN\", \n",
      "  \"tweet_volume\": 23176, \n",
      "  \"name\": \"#BHAMUN\", \n",
      "  \"promoted_content\": null\n",
      " }, \n",
      " {\n",
      "  \"url\": \"http://twitter.com/search?q=%22Kim+Reynolds%22\", \n",
      "  \"query\": \"%22Kim+Reynolds%22\", \n",
      "  \"tweet_volume\": null, \n",
      "  \"name\": \"Kim Reynolds\", \n",
      "  \"promoted_content\": null\n",
      " }, \n",
      " {\n",
      "  \"url\": \"http://twitter.com/search?q=%22Cliff+Avril%22\", \n",
      "  \"query\": \"%22Cliff+Avril%22\", \n",
      "  \"tweet_volume\": null, \n",
      "  \"name\": \"Cliff Avril\", \n",
      "  \"promoted_content\": null\n",
      " }, \n",
      " {\n",
      "  \"url\": \"http://twitter.com/search?q=%22Alvin+Gentry%22\", \n",
      "  \"query\": \"%22Alvin+Gentry%22\", \n",
      "  \"tweet_volume\": null, \n",
      "  \"name\": \"Alvin Gentry\", \n",
      "  \"promoted_content\": null\n",
      " }, \n",
      " {\n",
      "  \"url\": \"http://twitter.com/search?q=%22Rushing+Fall%22\", \n",
      "  \"query\": \"%22Rushing+Fall%22\", \n",
      "  \"tweet_volume\": null, \n",
      "  \"name\": \"Rushing Fall\", \n",
      "  \"promoted_content\": null\n",
      " }, \n",
      " {\n",
      "  \"url\": \"http://twitter.com/search?q=%22Mitt+Romney%22\", \n",
      "  \"query\": \"%22Mitt+Romney%22\", \n",
      "  \"tweet_volume\": null, \n",
      "  \"name\": \"Mitt Romney\", \n",
      "  \"promoted_content\": null\n",
      " }, \n",
      " {\n",
      "  \"url\": \"http://twitter.com/search?q=Waymo\", \n",
      "  \"query\": \"Waymo\", \n",
      "  \"tweet_volume\": null, \n",
      "  \"name\": \"Waymo\", \n",
      "  \"promoted_content\": null\n",
      " }, \n",
      " {\n",
      "  \"url\": \"http://twitter.com/search?q=%22Riley+Nash%22\", \n",
      "  \"query\": \"%22Riley+Nash%22\", \n",
      "  \"tweet_volume\": null, \n",
      "  \"name\": \"Riley Nash\", \n",
      "  \"promoted_content\": null\n",
      " }, \n",
      " {\n",
      "  \"url\": \"http://twitter.com/search?q=%22David+Turpin%22\", \n",
      "  \"query\": \"%22David+Turpin%22\", \n",
      "  \"tweet_volume\": null, \n",
      "  \"name\": \"David Turpin\", \n",
      "  \"promoted_content\": null\n",
      " }, \n",
      " {\n",
      "  \"url\": \"http://twitter.com/search?q=%22Courtney+Barnett%22\", \n",
      "  \"query\": \"%22Courtney+Barnett%22\", \n",
      "  \"tweet_volume\": null, \n",
      "  \"name\": \"Courtney Barnett\", \n",
      "  \"promoted_content\": null\n",
      " }, \n",
      " {\n",
      "  \"url\": \"http://twitter.com/search?q=%22Charlie+Rose+and+CBS+News%22\", \n",
      "  \"query\": \"%22Charlie+Rose+and+CBS+News%22\", \n",
      "  \"tweet_volume\": null, \n",
      "  \"name\": \"Charlie Rose and CBS News\", \n",
      "  \"promoted_content\": null\n",
      " }, \n",
      " {\n",
      "  \"url\": \"http://twitter.com/search?q=%22Billy+Turner%22\", \n",
      "  \"query\": \"%22Billy+Turner%22\", \n",
      "  \"tweet_volume\": null, \n",
      "  \"name\": \"Billy Turner\", \n",
      "  \"promoted_content\": null\n",
      " }, \n",
      " {\n",
      "  \"url\": \"http://twitter.com/search?q=%22Jason+Adam%22\", \n",
      "  \"query\": \"%22Jason+Adam%22\", \n",
      "  \"tweet_volume\": null, \n",
      "  \"name\": \"Jason Adam\", \n",
      "  \"promoted_content\": null\n",
      " }, \n",
      " {\n",
      "  \"url\": \"http://twitter.com/search?q=%22Larry+Hunter%22\", \n",
      "  \"query\": \"%22Larry+Hunter%22\", \n",
      "  \"tweet_volume\": null, \n",
      "  \"name\": \"Larry Hunter\", \n",
      "  \"promoted_content\": null\n",
      " }, \n",
      " {\n",
      "  \"url\": \"http://twitter.com/search?q=%22Coach+Rocks%22\", \n",
      "  \"query\": \"%22Coach+Rocks%22\", \n",
      "  \"tweet_volume\": null, \n",
      "  \"name\": \"Coach Rocks\", \n",
      "  \"promoted_content\": null\n",
      " }, \n",
      " {\n",
      "  \"url\": \"http://twitter.com/search?q=%22CMU+6%22\", \n",
      "  \"query\": \"%22CMU+6%22\", \n",
      "  \"tweet_volume\": null, \n",
      "  \"name\": \"CMU 6\", \n",
      "  \"promoted_content\": null\n",
      " }, \n",
      " {\n",
      "  \"url\": \"http://twitter.com/search?q=%22Derrick+Johnson%22\", \n",
      "  \"query\": \"%22Derrick+Johnson%22\", \n",
      "  \"tweet_volume\": null, \n",
      "  \"name\": \"Derrick Johnson\", \n",
      "  \"promoted_content\": null\n",
      " }, \n",
      " {\n",
      "  \"url\": \"http://twitter.com/search?q=%22MSU+0%22\", \n",
      "  \"query\": \"%22MSU+0%22\", \n",
      "  \"tweet_volume\": null, \n",
      "  \"name\": \"MSU 0\", \n",
      "  \"promoted_content\": null\n",
      " }, \n",
      " {\n",
      "  \"url\": \"http://twitter.com/search?q=%22Richard+Marx%22\", \n",
      "  \"query\": \"%22Richard+Marx%22\", \n",
      "  \"tweet_volume\": null, \n",
      "  \"name\": \"Richard Marx\", \n",
      "  \"promoted_content\": null\n",
      " }, \n",
      " {\n",
      "  \"url\": \"http://twitter.com/search?q=%23MayThe4BeWithYou\", \n",
      "  \"query\": \"%23MayThe4BeWithYou\", \n",
      "  \"tweet_volume\": null, \n",
      "  \"name\": \"#MayThe4BeWithYou\", \n",
      "  \"promoted_content\": null\n",
      " }, \n",
      " {\n",
      "  \"url\": \"http://twitter.com/search?q=%23VRLA2018\", \n",
      "  \"query\": \"%23VRLA2018\", \n",
      "  \"tweet_volume\": null, \n",
      "  \"name\": \"#VRLA2018\", \n",
      "  \"promoted_content\": null\n",
      " }, \n",
      " {\n",
      "  \"url\": \"http://twitter.com/search?q=%23CarbLoadASongOrBand\", \n",
      "  \"query\": \"%23CarbLoadASongOrBand\", \n",
      "  \"tweet_volume\": null, \n",
      "  \"name\": \"#CarbLoadASongOrBand\", \n",
      "  \"promoted_content\": null\n",
      " }, \n",
      " {\n",
      "  \"url\": \"http://twitter.com/search?q=%23MexicoSeries\", \n",
      "  \"query\": \"%23MexicoSeries\", \n",
      "  \"tweet_volume\": null, \n",
      "  \"name\": \"#MexicoSeries\", \n",
      "  \"promoted_content\": null\n",
      " }, \n",
      " {\n",
      "  \"url\": \"http://twitter.com/search?q=%23WPXIStorm\", \n",
      "  \"query\": \"%23WPXIStorm\", \n",
      "  \"tweet_volume\": null, \n",
      "  \"name\": \"#WPXIStorm\", \n",
      "  \"promoted_content\": null\n",
      " }, \n",
      " {\n",
      "  \"url\": \"http://twitter.com/search?q=%23dearwhitepeopleseason2\", \n",
      "  \"query\": \"%23dearwhitepeopleseason2\", \n",
      "  \"tweet_volume\": null, \n",
      "  \"name\": \"#dearwhitepeopleseason2\", \n",
      "  \"promoted_content\": null\n",
      " }, \n",
      " {\n",
      "  \"url\": \"http://twitter.com/search?q=%23JunotDiaz\", \n",
      "  \"query\": \"%23JunotDiaz\", \n",
      "  \"tweet_volume\": null, \n",
      "  \"name\": \"#JunotDiaz\", \n",
      "  \"promoted_content\": null\n",
      " }, \n",
      " {\n",
      "  \"url\": \"http://twitter.com/search?q=%23SouthernNats\", \n",
      "  \"query\": \"%23SouthernNats\", \n",
      "  \"tweet_volume\": null, \n",
      "  \"name\": \"#SouthernNats\", \n",
      "  \"promoted_content\": null\n",
      " }, \n",
      " {\n",
      "  \"url\": \"http://twitter.com/search?q=%23USOW2018\", \n",
      "  \"query\": \"%23USOW2018\", \n",
      "  \"tweet_volume\": null, \n",
      "  \"name\": \"#USOW2018\", \n",
      "  \"promoted_content\": null\n",
      " }, \n",
      " {\n",
      "  \"url\": \"http://twitter.com/search?q=%23GGGVanes\", \n",
      "  \"query\": \"%23GGGVanes\", \n",
      "  \"tweet_volume\": null, \n",
      "  \"name\": \"#GGGVanes\", \n",
      "  \"promoted_content\": null\n",
      " }, \n",
      " {\n",
      "  \"url\": \"http://twitter.com/search?q=%23CyberAware\", \n",
      "  \"query\": \"%23CyberAware\", \n",
      "  \"tweet_volume\": null, \n",
      "  \"name\": \"#CyberAware\", \n",
      "  \"promoted_content\": null\n",
      " }, \n",
      " {\n",
      "  \"url\": \"http://twitter.com/search?q=%23CrimeCon\", \n",
      "  \"query\": \"%23CrimeCon\", \n",
      "  \"tweet_volume\": null, \n",
      "  \"name\": \"#CrimeCon\", \n",
      "  \"promoted_content\": null\n",
      " }, \n",
      " {\n",
      "  \"url\": \"http://twitter.com/search?q=%23ECU18\", \n",
      "  \"query\": \"%23ECU18\", \n",
      "  \"tweet_volume\": null, \n",
      "  \"name\": \"#ECU18\", \n",
      "  \"promoted_content\": null\n",
      " }, \n",
      " {\n",
      "  \"url\": \"http://twitter.com/search?q=%23MASassembly\", \n",
      "  \"query\": \"%23MASassembly\", \n",
      "  \"tweet_volume\": null, \n",
      "  \"name\": \"#MASassembly\", \n",
      "  \"promoted_content\": null\n",
      " }, \n",
      " {\n",
      "  \"url\": \"http://twitter.com/search?q=%23HooverFedConference\", \n",
      "  \"query\": \"%23HooverFedConference\", \n",
      "  \"tweet_volume\": null, \n",
      "  \"name\": \"#HooverFedConference\", \n",
      "  \"promoted_content\": null\n",
      " }, \n",
      " {\n",
      "  \"url\": \"http://twitter.com/search?q=%23FemaleFilmmakerFriday\", \n",
      "  \"query\": \"%23FemaleFilmmakerFriday\", \n",
      "  \"tweet_volume\": null, \n",
      "  \"name\": \"#FemaleFilmmakerFriday\", \n",
      "  \"promoted_content\": null\n",
      " }\n",
      "]\n"
     ]
    }
   ],
   "source": [
    "print((json.dumps(trends_tr, indent=1))) # indent every paranethesis by a character"
   ]
  },
  {
   "cell_type": "markdown",
   "metadata": {},
   "source": [
    "## Computing the intersection of two sets of trends"
   ]
  },
  {
   "cell_type": "markdown",
   "metadata": {},
   "source": [
    "Collect the names of most popular trends:"
   ]
  },
  {
   "cell_type": "code",
   "execution_count": 70,
   "metadata": {
    "collapsed": true
   },
   "outputs": [],
   "source": [
    "trends_set = {}\n",
    "trends_set['world'] = set([trend['name'] \n",
    "                        for trend in world_trends[0]['trends']])\n",
    "\n",
    "trends_set['us'] = set([trend['name'] \n",
    "                     for trend in us_trends[0]['trends']]) \n",
    "\n",
    "trends_set['local'] = set([trend['name'] \n",
    "                     for trend in local_trends[0]['trends']]) "
   ]
  },
  {
   "cell_type": "markdown",
   "metadata": {},
   "source": [
    "Print the trend names:"
   ]
  },
  {
   "cell_type": "code",
   "execution_count": 80,
   "metadata": {},
   "outputs": [
    {
     "name": "stdout",
     "output_type": "stream",
     "text": [
      "---------- world\n",
      "#تكفي_ياولي_العهد_مكرمه_نقل,井上堯之さん死去,#الاهلي_الترجي,#تيار_المستقبل,#propagandalive,#FosStoTounel,#KohLanta,#YeahYoureWelcome,#シンカリオン,#LOS40PrimaveraPop,#quartogrado,#PetroJuventudYFuturo,#كلمه_لاعداء_السعوديه,#MillennialBedtimeStories,#هل_تتزوج_مطلقه_او_عانس,#NRAConvention,#NoRolêMTVHits,Luana Piovani,#ASCPSG,#Aldosivi,Monomoy Girl,#latelate,#NewSongJulianSERRANO,Brighton,#VolverteAVer,#GipsyKings3,こどもの日,DJ Khaled,#MeVieneLaWeaCuando,EnAnlamlıİyiKi UlasAstepe,#FridaySdvFcs,#العربي_السالميه,Rashford,#DeusSalveORei100,Matt Harvey,#FridayNightDinner,#سعوديات_نطلب_اسقاط_الولايه667,HACKED BY MB,#NosOrganizamosY,#MeadeConoceMisCausas,Arda Turan,#onstorm,#FSRADIOSUR,Copa América,#poweroflovegr,#NinjaWarrior5,#الحب_مع_الوقت_يكون,#Aitana1M,#RoarForChange,#LaCorrida\n",
      "---------- us\n",
      "MSU 0,Courtney Barnett,Richard Marx,#WPXIStorm,Smash Mouth,Amber Alert,Riley Nash,Larry Hunter,#MayThe4BeWithYou,Jason Adam,Fort Mill,Michael Skakel,Tedy Bruschi,Manafort,Rushing Fall,#CyberAware,#MillennialBedtimeStories,#VRLA2018,#NRAConvention,#USOW2018,#JEGS200,Kim Reynolds,Monomoy Girl,Charlie Rose and CBS News,#GGGVanes,Brighton,#CarbLoadASongOrBand,57,000 Hondurans,Coach Rocks,#CrimeCon,DJ Khaled,#JunotDiaz,#SouthernNats,Mitt Romney,David Turpin,#YeahYoureWelcome,Waymo,#BHAMUN,Cliff Avril,Billy Turner,Derrick Johnson,#ECU18,CMU 6,Alvin Gentry,#MASassembly,#HooverFedConference,#MexicoSeries,Matt Harvey,#FemaleFilmmakerFriday,#dearwhitepeopleseason2\n",
      "---------- local\n",
      "Courtney Barnett,Richard Marx,#WPXIStorm,#WhatStarWarsTaughtMe,Amber Alert,Riley Nash,Larry Hunter,#MayThe4BeWithYou,Jason Adam,Kolton Miller,Fort Mill,#fridaynight,Michael Skakel,Tedy Bruschi,Manafort,Rushing Fall,#MillennialBedtimeStories,#VRLA2018,#NRAConvention,#USOW2018,#JEGS200,Kim Reynolds,Monomoy Girl,Charlie Rose and CBS News,#GGGVanes,Brighton,#CarbLoadASongOrBand,57,000 Hondurans,Coach Rocks,#CrimeCon,DJ Khaled,#JunotDiaz,Rene Rancourt,#SouthernNats,Mitt Romney,Smash Mouth,David Turpin,#YeahYoureWelcome,#SCANSymposium,Waymo,#BHAMUN,Cliff Avril,Billy Turner,Gio Gonzalez,CC Sabathia,#ECU18,Alvin Gentry,#MexicoSeries,Matt Harvey,#dearwhitepeopleseason2\n"
     ]
    }
   ],
   "source": [
    "for loc in ['world','us','local']:\n",
    "    print '-'*10,loc\n",
    "    print(','.join(trends_set[loc]))"
   ]
  },
  {
   "cell_type": "code",
   "execution_count": 74,
   "metadata": {
    "scrolled": true
   },
   "outputs": [
    {
     "name": "stdout",
     "output_type": "stream",
     "text": [
      "('==========', 'intersection of world and US')\n",
      "set([u'DJ Khaled', u'#MillennialBedtimeStories', u'#NRAConvention', u'Monomoy Girl', u'#YeahYoureWelcome', u'Matt Harvey', u'Brighton'])\n",
      "('==========', 'intersection of US and local')\n",
      "set([u'Courtney Barnett', u'Richard Marx', u'#WPXIStorm', u'Smash Mouth', u'Amber Alert', u'Riley Nash', u'Larry Hunter', u'#MayThe4BeWithYou', u'Fort Mill', u'Michael Skakel', u'Tedy Bruschi', u'David Turpin', u'Manafort', u'Rushing Fall', u'#MillennialBedtimeStories', u'#VRLA2018', u'#NRAConvention', u'#USOW2018', u'#JEGS200', u'Kim Reynolds', u'Monomoy Girl', u'Charlie Rose and CBS News', u'DJ Khaled', u'Brighton', u'#CarbLoadASongOrBand', u'57,000 Hondurans', u'Coach Rocks', u'#CrimeCon', u'#GGGVanes', u'#JunotDiaz', u'#SouthernNats', u'Cliff Avril', u'Jason Adam', u'#YeahYoureWelcome', u'Waymo', u'#BHAMUN', u'Mitt Romney', u'Billy Turner', u'#ECU18', u'Alvin Gentry', u'#MexicoSeries', u'Matt Harvey', u'#dearwhitepeopleseason2'])\n"
     ]
    }
   ],
   "source": [
    "print(( '='*10,'intersection of world and US'))\n",
    "print((trends_set['world'].intersection(trends_set['us'])))\n",
    "\n",
    "print(('='*10,'intersection of US and local'))\n",
    "print((trends_set['local'].intersection(trends_set['us'])))"
   ]
  },
  {
   "cell_type": "markdown",
   "metadata": {},
   "source": [
    "## Collecting search results"
   ]
  },
  {
   "cell_type": "markdown",
   "metadata": {},
   "source": [
    "Set the variable `q` to a trending topic, or anything else for that matter. "
   ]
  },
  {
   "cell_type": "code",
   "execution_count": 104,
   "metadata": {
    "collapsed": true
   },
   "outputs": [],
   "source": [
    "topic = '#MillennialBedtimeStories' \n",
    "number = 100\n",
    "\n",
    "search_results = twitter_api.search.tweets(q=topic, count=number)\n",
    "statuses = search_results['statuses']"
   ]
  },
  {
   "cell_type": "code",
   "execution_count": 105,
   "metadata": {},
   "outputs": [
    {
     "name": "stdout",
     "output_type": "stream",
     "text": [
      "<class 'twitter.api.TwitterDictResponse'>\n",
      "[u'search_metadata', u'statuses']\n",
      "100\n",
      "[u'contributors', u'truncated', u'text', u'is_quote_status', u'in_reply_to_status_id', u'id', u'favorite_count', u'entities', u'retweeted', u'coordinates', u'source', u'in_reply_to_screen_name', u'in_reply_to_user_id', u'retweet_count', u'id_str', u'favorited', u'retweeted_status', u'user', u'geo', u'in_reply_to_user_id_str', u'possibly_sensitive', u'lang', u'created_at', u'in_reply_to_status_id_str', u'place', u'extended_entities', u'metadata']\n",
      "RT @MrRaceBannon: The Three Little Pigs  #MillennialBedtimeStories https://t.co/wSsicFEeQx\n"
     ]
    }
   ],
   "source": [
    "print type(search_results)\n",
    "print search_results.keys()\n",
    "print len(statuses)\n",
    "print statuses[0].keys()\n",
    "print statuses[0]['text']"
   ]
  },
  {
   "cell_type": "markdown",
   "metadata": {},
   "source": [
    "Twitter often returns duplicate results, we can filter them out checking for duplicate texts:"
   ]
  },
  {
   "cell_type": "code",
   "execution_count": 106,
   "metadata": {
    "collapsed": true
   },
   "outputs": [],
   "source": [
    "all_text = []\n",
    "filtered_statuses = []\n",
    "for s in statuses:\n",
    "    if not s[\"text\"] in all_text:\n",
    "        all_text.append(s[\"text\"])\n",
    "        filtered_statuses.append(s)\n",
    "statuses = filtered_statuses     "
   ]
  },
  {
   "cell_type": "code",
   "execution_count": 107,
   "metadata": {},
   "outputs": [
    {
     "data": {
      "text/plain": [
       "82"
      ]
     },
     "execution_count": 107,
     "metadata": {},
     "output_type": "execute_result"
    }
   ],
   "source": [
    "len(statuses)"
   ]
  },
  {
   "cell_type": "code",
   "execution_count": 109,
   "metadata": {},
   "outputs": [
    {
     "data": {
      "text/plain": [
       "[u'RT @MrRaceBannon: The Three Little Pigs  #MillennialBedtimeStories https://t.co/wSsicFEeQx',\n",
       " u'#MillennialBedtimeStories Once upon a ending millennium convinced the world was going to end due to software, some\\u2026 https://t.co/598meHPpeN',\n",
       " u'#MillennialBedtimeStories\\nABC Land',\n",
       " u'RT @kevinwxgg: A gender-fluid blonde and the three furry beings who prefer not to be labled. \\n#MillennialBedtimeStories',\n",
       " u'@ #Robot #Vacuum Cleaner with 1000PA Power Suction for Thin Carpet!!\\n\\nproduct link: https://t.co/rLxf3Eefet\\n specif\\u2026 https://t.co/pdk6XSlApV',\n",
       " u'Nancy Drew and the Nigerian Prince Mystery\\n  #MillennialBedtimeStories',\n",
       " u'RT @billy4ever9: #MillennialBedtimeStories Beauty And The Beast\\U0001f607\\U0001f47f https://t.co/AK7A3tRDvP',\n",
       " u'RT @HashtagRoundup: HOT HASHTAGS\\n\\n#4 USA #MillennialBedtimeStories w/@BrieHxC \\n\\n#5 USA #WhatStarWarsTaughtMe w/@HappyHourTags \\n\\n#6 USA #Yea\\u2026',\n",
       " u'RT @WahkersRevolt: \\u201cThe Very Hungry &amp; Greedy Generation Before Us That Destroyed an Economy &amp; Environment.\\u201d It\\u2019s a vey scary story. #Millen\\u2026',\n",
       " u'RT @LibsNoFun: Winners aren\\u2019t Losers #MillennialBedtimeStories https://t.co/xGomGQjqMn']"
      ]
     },
     "execution_count": 109,
     "metadata": {},
     "output_type": "execute_result"
    }
   ],
   "source": [
    "all_text = [s['text'] for s in statuses]\n",
    "all_text[:10]"
   ]
  },
  {
   "cell_type": "markdown",
   "metadata": {},
   "source": [
    "Explore one of the tweets:"
   ]
  },
  {
   "cell_type": "code",
   "execution_count": 114,
   "metadata": {},
   "outputs": [
    {
     "name": "stdout",
     "output_type": "stream",
     "text": [
      "{\n",
      " \"contributors\": null, \n",
      " \"truncated\": false, \n",
      " \"text\": \"RT @MrRaceBannon: The Three Little Pigs  #MillennialBedtimeStories https://t.co/wSsicFEeQx\", \n",
      " \"is_quote_status\": false, \n",
      " \"in_reply_to_status_id\": null, \n",
      " \"id\": 992559856061214722, \n",
      " \"favorite_count\": 0, \n",
      " \"entities\": {\n",
      "  \"symbols\": [], \n",
      "  \"user_mentions\": [\n",
      "   {\n",
      "    \"id\": 40444923, \n",
      "    \"indices\": [\n",
      "     3, \n",
      "     16\n",
      "    ], \n",
      "    \"id_str\": \"40444923\", \n",
      "    \"screen_name\": \"MrRaceBannon\", \n",
      "    \"name\": \"Mister Race Bannon\"\n",
      "   }\n",
      "  ], \n",
      "  \"hashtags\": [\n",
      "   {\n",
      "    \"indices\": [\n",
      "     41, \n",
      "     66\n",
      "    ], \n",
      "    \"text\": \"MillennialBedtimeStories\"\n",
      "   }\n",
      "  ], \n",
      "  \"urls\": [], \n",
      "  \"media\": [\n",
      "   {\n",
      "    \"source_user_id\": 40444923, \n",
      "    \"source_status_id_str\": \"992514426061312000\", \n",
      "    \"expanded_url\": \"https://twitter.com/MrRaceBannon/status/992514426061312000/photo/1\", \n",
      "    \"display_url\": \"pic.twitter.com/wSsicFEeQx\", \n",
      "    \"url\": \"https://t.co/wSsicFEeQx\", \n",
      "    \"media_url_https\": \"https://pbs.twimg.com/media/DcYemxEXkAQ3RJG.jpg\", \n",
      "    \"source_user_id_str\": \"40444923\", \n",
      "    \"source_status_id\": 992514426061312000, \n",
      "    \"id_str\": \"992514419237294084\", \n",
      "    \"sizes\": {\n",
      "     \"large\": {\n",
      "      \"h\": 490, \n",
      "      \"resize\": \"fit\", \n",
      "      \"w\": 980\n",
      "     }, \n",
      "     \"small\": {\n",
      "      \"h\": 340, \n",
      "      \"resize\": \"fit\", \n",
      "      \"w\": 680\n",
      "     }, \n",
      "     \"medium\": {\n",
      "      \"h\": 490, \n",
      "      \"resize\": \"fit\", \n",
      "      \"w\": 980\n",
      "     }, \n",
      "     \"thumb\": {\n",
      "      \"h\": 150, \n",
      "      \"resize\": \"crop\", \n",
      "      \"w\": 150\n",
      "     }\n",
      "    }, \n",
      "    \"indices\": [\n",
      "     67, \n",
      "     90\n",
      "    ], \n",
      "    \"type\": \"photo\", \n",
      "    \"id\": 992514419237294084, \n",
      "    \"media_url\": \"http://pbs.twimg.com/media/DcYemxEXkAQ3RJG.jpg\"\n",
      "   }\n",
      "  ]\n",
      " }, \n",
      " \"retweeted\": false, \n",
      " \"coordinates\": null, \n",
      " \"source\": \"<a href=\\\"http://twitter.com/download/iphone\\\" rel=\\\"nofollow\\\">Twitter for iPhone</a>\", \n",
      " \"in_reply_to_screen_name\": null, \n",
      " \"in_reply_to_user_id\": null, \n",
      " \"retweet_count\": 28, \n",
      " \"id_str\": \"992559856061214722\", \n",
      " \"favorited\": false, \n",
      " \"retweeted_status\": {\n",
      "  \"contributors\": null, \n",
      "  \"truncated\": false, \n",
      "  \"text\": \"The Three Little Pigs  #MillennialBedtimeStories https://t.co/wSsicFEeQx\", \n",
      "  \"is_quote_status\": false, \n",
      "  \"in_reply_to_status_id\": null, \n",
      "  \"id\": 992514426061312000, \n",
      "  \"favorite_count\": 171, \n",
      "  \"entities\": {\n",
      "   \"symbols\": [], \n",
      "   \"user_mentions\": [], \n",
      "   \"hashtags\": [\n",
      "    {\n",
      "     \"indices\": [\n",
      "      23, \n",
      "      48\n",
      "     ], \n",
      "     \"text\": \"MillennialBedtimeStories\"\n",
      "    }\n",
      "   ], \n",
      "   \"urls\": [], \n",
      "   \"media\": [\n",
      "    {\n",
      "     \"expanded_url\": \"https://twitter.com/MrRaceBannon/status/992514426061312000/photo/1\", \n",
      "     \"display_url\": \"pic.twitter.com/wSsicFEeQx\", \n",
      "     \"url\": \"https://t.co/wSsicFEeQx\", \n",
      "     \"media_url_https\": \"https://pbs.twimg.com/media/DcYemxEXkAQ3RJG.jpg\", \n",
      "     \"id_str\": \"992514419237294084\", \n",
      "     \"sizes\": {\n",
      "      \"large\": {\n",
      "       \"h\": 490, \n",
      "       \"resize\": \"fit\", \n",
      "       \"w\": 980\n",
      "      }, \n",
      "      \"small\": {\n",
      "       \"h\": 340, \n",
      "       \"resize\": \"fit\", \n",
      "       \"w\": 680\n",
      "      }, \n",
      "      \"medium\": {\n",
      "       \"h\": 490, \n",
      "       \"resize\": \"fit\", \n",
      "       \"w\": 980\n",
      "      }, \n",
      "      \"thumb\": {\n",
      "       \"h\": 150, \n",
      "       \"resize\": \"crop\", \n",
      "       \"w\": 150\n",
      "      }\n",
      "     }, \n",
      "     \"indices\": [\n",
      "      49, \n",
      "      72\n",
      "     ], \n",
      "     \"type\": \"photo\", \n",
      "     \"id\": 992514419237294084, \n",
      "     \"media_url\": \"http://pbs.twimg.com/media/DcYemxEXkAQ3RJG.jpg\"\n",
      "    }\n",
      "   ]\n",
      "  }, \n",
      "  \"retweeted\": false, \n",
      "  \"coordinates\": null, \n",
      "  \"source\": \"<a href=\\\"http://twitter.com/#!/download/ipad\\\" rel=\\\"nofollow\\\">Twitter for iPad</a>\", \n",
      "  \"in_reply_to_screen_name\": null, \n",
      "  \"in_reply_to_user_id\": null, \n",
      "  \"retweet_count\": 28, \n",
      "  \"id_str\": \"992514426061312000\", \n",
      "  \"favorited\": false, \n",
      "  \"user\": {\n",
      "   \"follow_request_sent\": false, \n",
      "   \"has_extended_profile\": false, \n",
      "   \"profile_use_background_image\": false, \n",
      "   \"default_profile_image\": false, \n",
      "   \"id\": 40444923, \n",
      "   \"profile_background_image_url_https\": \"https://abs.twimg.com/images/themes/theme1/bg.png\", \n",
      "   \"verified\": false, \n",
      "   \"translator_type\": \"none\", \n",
      "   \"profile_text_color\": \"000000\", \n",
      "   \"profile_image_url_https\": \"https://pbs.twimg.com/profile_images/965729173967794176/3TDg4jCX_normal.jpg\", \n",
      "   \"profile_sidebar_fill_color\": \"000000\", \n",
      "   \"entities\": {\n",
      "    \"description\": {\n",
      "     \"urls\": []\n",
      "    }\n",
      "   }, \n",
      "   \"followers_count\": 5055, \n",
      "   \"profile_sidebar_border_color\": \"000000\", \n",
      "   \"id_str\": \"40444923\", \n",
      "   \"profile_background_color\": \"000000\", \n",
      "   \"listed_count\": 70, \n",
      "   \"is_translation_enabled\": false, \n",
      "   \"utc_offset\": -25200, \n",
      "   \"statuses_count\": 23982, \n",
      "   \"description\": \"Test Pilot and Babysitter. I don\\u2019t like lettuce on my sandwiches.\", \n",
      "   \"friends_count\": 3545, \n",
      "   \"location\": \"Location:Classified\", \n",
      "   \"profile_link_color\": \"FAB81E\", \n",
      "   \"profile_image_url\": \"http://pbs.twimg.com/profile_images/965729173967794176/3TDg4jCX_normal.jpg\", \n",
      "   \"following\": false, \n",
      "   \"geo_enabled\": false, \n",
      "   \"profile_banner_url\": \"https://pbs.twimg.com/profile_banners/40444923/1483833031\", \n",
      "   \"profile_background_image_url\": \"http://abs.twimg.com/images/themes/theme1/bg.png\", \n",
      "   \"screen_name\": \"MrRaceBannon\", \n",
      "   \"lang\": \"en\", \n",
      "   \"profile_background_tile\": false, \n",
      "   \"favourites_count\": 21623, \n",
      "   \"name\": \"Mister Race Bannon\", \n",
      "   \"notifications\": false, \n",
      "   \"url\": null, \n",
      "   \"created_at\": \"Sat May 16 10:47:55 +0000 2009\", \n",
      "   \"contributors_enabled\": false, \n",
      "   \"time_zone\": \"Pacific Time (US & Canada)\", \n",
      "   \"protected\": false, \n",
      "   \"default_profile\": false, \n",
      "   \"is_translator\": false\n",
      "  }, \n",
      "  \"geo\": null, \n",
      "  \"in_reply_to_user_id_str\": null, \n",
      "  \"possibly_sensitive\": false, \n",
      "  \"lang\": \"en\", \n",
      "  \"created_at\": \"Fri May 04 21:20:53 +0000 2018\", \n",
      "  \"in_reply_to_status_id_str\": null, \n",
      "  \"place\": null, \n",
      "  \"extended_entities\": {\n",
      "   \"media\": [\n",
      "    {\n",
      "     \"expanded_url\": \"https://twitter.com/MrRaceBannon/status/992514426061312000/photo/1\", \n",
      "     \"display_url\": \"pic.twitter.com/wSsicFEeQx\", \n",
      "     \"url\": \"https://t.co/wSsicFEeQx\", \n",
      "     \"media_url_https\": \"https://pbs.twimg.com/media/DcYemxEXkAQ3RJG.jpg\", \n",
      "     \"id_str\": \"992514419237294084\", \n",
      "     \"sizes\": {\n",
      "      \"large\": {\n",
      "       \"h\": 490, \n",
      "       \"resize\": \"fit\", \n",
      "       \"w\": 980\n",
      "      }, \n",
      "      \"small\": {\n",
      "       \"h\": 340, \n",
      "       \"resize\": \"fit\", \n",
      "       \"w\": 680\n",
      "      }, \n",
      "      \"medium\": {\n",
      "       \"h\": 490, \n",
      "       \"resize\": \"fit\", \n",
      "       \"w\": 980\n",
      "      }, \n",
      "      \"thumb\": {\n",
      "       \"h\": 150, \n",
      "       \"resize\": \"crop\", \n",
      "       \"w\": 150\n",
      "      }\n",
      "     }, \n",
      "     \"indices\": [\n",
      "      49, \n",
      "      72\n",
      "     ], \n",
      "     \"type\": \"photo\", \n",
      "     \"id\": 992514419237294084, \n",
      "     \"media_url\": \"http://pbs.twimg.com/media/DcYemxEXkAQ3RJG.jpg\"\n",
      "    }\n",
      "   ]\n",
      "  }, \n",
      "  \"metadata\": {\n",
      "   \"iso_language_code\": \"en\", \n",
      "   \"result_type\": \"recent\"\n",
      "  }\n",
      " }, \n",
      " \"user\": {\n",
      "  \"follow_request_sent\": false, \n",
      "  \"has_extended_profile\": true, \n",
      "  \"profile_use_background_image\": false, \n",
      "  \"default_profile_image\": false, \n",
      "  \"id\": 932726310752755712, \n",
      "  \"profile_background_image_url_https\": \"https://abs.twimg.com/images/themes/theme1/bg.png\", \n",
      "  \"verified\": false, \n",
      "  \"translator_type\": \"none\", \n",
      "  \"profile_text_color\": \"000000\", \n",
      "  \"profile_image_url_https\": \"https://pbs.twimg.com/profile_images/992056344780795905/qZdIbZHb_normal.jpg\", \n",
      "  \"profile_sidebar_fill_color\": \"000000\", \n",
      "  \"entities\": {\n",
      "   \"description\": {\n",
      "    \"urls\": []\n",
      "   }\n",
      "  }, \n",
      "  \"followers_count\": 184, \n",
      "  \"profile_sidebar_border_color\": \"000000\", \n",
      "  \"id_str\": \"932726310752755712\", \n",
      "  \"profile_background_color\": \"000000\", \n",
      "  \"listed_count\": 0, \n",
      "  \"is_translation_enabled\": false, \n",
      "  \"utc_offset\": -25200, \n",
      "  \"statuses_count\": 6681, \n",
      "  \"description\": \"7 days until @dazzlingpml\\u2019s bday \\ud83d\\udc95\", \n",
      "  \"friends_count\": 424, \n",
      "  \"location\": \"\", \n",
      "  \"profile_link_color\": \"000000\", \n",
      "  \"profile_image_url\": \"http://pbs.twimg.com/profile_images/992056344780795905/qZdIbZHb_normal.jpg\", \n",
      "  \"following\": false, \n",
      "  \"geo_enabled\": false, \n",
      "  \"profile_banner_url\": \"https://pbs.twimg.com/profile_banners/932726310752755712/1525359640\", \n",
      "  \"profile_background_image_url\": \"http://abs.twimg.com/images/themes/theme1/bg.png\", \n",
      "  \"screen_name\": \"serotoninwho\", \n",
      "  \"lang\": \"en\", \n",
      "  \"profile_background_tile\": false, \n",
      "  \"favourites_count\": 10294, \n",
      "  \"name\": \"skye \\ud83c\\udf3a\", \n",
      "  \"notifications\": false, \n",
      "  \"url\": null, \n",
      "  \"created_at\": \"Mon Nov 20 21:44:16 +0000 2017\", \n",
      "  \"contributors_enabled\": false, \n",
      "  \"time_zone\": \"Pacific Time (US & Canada)\", \n",
      "  \"protected\": false, \n",
      "  \"default_profile\": false, \n",
      "  \"is_translator\": false\n",
      " }, \n",
      " \"geo\": null, \n",
      " \"in_reply_to_user_id_str\": null, \n",
      " \"possibly_sensitive\": false, \n",
      " \"lang\": \"en\", \n",
      " \"created_at\": \"Sat May 05 00:21:25 +0000 2018\", \n",
      " \"in_reply_to_status_id_str\": null, \n",
      " \"place\": null, \n",
      " \"extended_entities\": {\n",
      "  \"media\": [\n",
      "   {\n",
      "    \"source_user_id\": 40444923, \n",
      "    \"source_status_id_str\": \"992514426061312000\", \n",
      "    \"expanded_url\": \"https://twitter.com/MrRaceBannon/status/992514426061312000/photo/1\", \n",
      "    \"display_url\": \"pic.twitter.com/wSsicFEeQx\", \n",
      "    \"url\": \"https://t.co/wSsicFEeQx\", \n",
      "    \"media_url_https\": \"https://pbs.twimg.com/media/DcYemxEXkAQ3RJG.jpg\", \n",
      "    \"source_user_id_str\": \"40444923\", \n",
      "    \"source_status_id\": 992514426061312000, \n",
      "    \"id_str\": \"992514419237294084\", \n",
      "    \"sizes\": {\n",
      "     \"large\": {\n",
      "      \"h\": 490, \n",
      "      \"resize\": \"fit\", \n",
      "      \"w\": 980\n",
      "     }, \n",
      "     \"small\": {\n",
      "      \"h\": 340, \n",
      "      \"resize\": \"fit\", \n",
      "      \"w\": 680\n",
      "     }, \n",
      "     \"medium\": {\n",
      "      \"h\": 490, \n",
      "      \"resize\": \"fit\", \n",
      "      \"w\": 980\n",
      "     }, \n",
      "     \"thumb\": {\n",
      "      \"h\": 150, \n",
      "      \"resize\": \"crop\", \n",
      "      \"w\": 150\n",
      "     }\n",
      "    }, \n",
      "    \"indices\": [\n",
      "     67, \n",
      "     90\n",
      "    ], \n",
      "    \"type\": \"photo\", \n",
      "    \"id\": 992514419237294084, \n",
      "    \"media_url\": \"http://pbs.twimg.com/media/DcYemxEXkAQ3RJG.jpg\"\n",
      "   }\n",
      "  ]\n",
      " }, \n",
      " \"metadata\": {\n",
      "  \"iso_language_code\": \"en\", \n",
      "  \"result_type\": \"recent\"\n",
      " }\n",
      "}\n"
     ]
    }
   ],
   "source": [
    "# Show one sample search result by slicing the list\n",
    "t = statuses[0]\n",
    "print(json.dumps(t, indent=1))"
   ]
  },
  {
   "cell_type": "code",
   "execution_count": 115,
   "metadata": {},
   "outputs": [
    {
     "name": "stdout",
     "output_type": "stream",
     "text": [
      "28\n",
      "False\n"
     ]
    }
   ],
   "source": [
    "print(t['retweet_count'])\n",
    "print(t['retweeted'])"
   ]
  },
  {
   "cell_type": "code",
   "execution_count": 116,
   "metadata": {
    "collapsed": true
   },
   "outputs": [],
   "source": [
    "## Extracting text, screen names (usernames of twitter account), and hashtags from tweets\n",
    "\n",
    "status_texts = [status['text'] for status in statuses ]\n",
    "\n",
    "screen_names = [user_mention['screen_name'] for status in statuses for user_mention in status['entities']['user_mentions'] ]\n",
    "\n",
    "hashtags = [hashtag['text'] for status in statuses for hashtag in status['entities']['hashtags'] ]"
   ]
  },
  {
   "cell_type": "code",
   "execution_count": 131,
   "metadata": {},
   "outputs": [
    {
     "name": "stdout",
     "output_type": "stream",
     "text": [
      "Texts:\n",
      "[u'RT @MrRaceBannon: The Three Little Pigs  #MillennialBedtimeStories https://t.co/wSsicFEeQx', u'#MillennialBedtimeStories Once upon a ending millennium convinced the world was going to end due to software, some\\u2026 https://t.co/598meHPpeN', u'#MillennialBedtimeStories\\nABC Land', u'RT @kevinwxgg: A gender-fluid blonde and the three furry beings who prefer not to be labled. \\n#MillennialBedtimeStories', u'@ #Robot #Vacuum Cleaner with 1000PA Power Suction for Thin Carpet!!\\n\\nproduct link: https://t.co/rLxf3Eefet\\n specif\\u2026 https://t.co/pdk6XSlApV']\n",
      "\n",
      "Usernames: [u'MrRaceBannon', u'kevinwxgg', u'billy4ever9', u'HashtagRoundup', u'BrieHxC']\n",
      "\n",
      "Hashtags: [u'MillennialBedtimeStories', u'MillennialBedtimeStories', u'MillennialBedtimeStories', u'MillennialBedtimeStories', u'Robot']\n"
     ]
    }
   ],
   "source": [
    "print 'Texts:\\n', status_texts[:5]\n",
    "print '\\nUsernames:', screen_names[:5]\n",
    "print '\\nHashtags:', hashtags[:5]"
   ]
  },
  {
   "cell_type": "code",
   "execution_count": 134,
   "metadata": {},
   "outputs": [
    {
     "name": "stdout",
     "output_type": "stream",
     "text": [
      "[u'RT', u'@MrRaceBannon:', u'The', u'Three', u'Little', u'Pigs', u'#MillennialBedtimeStories', u'https://t.co/wSsicFEeQx', u'#MillennialBedtimeStories', u'Once', u'upon', u'a', u'ending', u'millennium', u'convinced']\n"
     ]
    }
   ],
   "source": [
    "# collection of all words from all tweets\n",
    "words = [w for t in status_texts for w in t.split() ]\n",
    "print words[:15]"
   ]
  },
  {
   "cell_type": "markdown",
   "metadata": {},
   "source": [
    "## Basic frequency distribution of the words in tweets"
   ]
  },
  {
   "cell_type": "code",
   "execution_count": 137,
   "metadata": {},
   "outputs": [
    {
     "data": {
      "text/plain": [
       "[(u'#MillennialBedtimeStories', 66),\n",
       " (u'RT', 41),\n",
       " (u'the', 31),\n",
       " (u'The', 24),\n",
       " (u'and', 18),\n",
       " (u'a', 11),\n",
       " (u'A', 9),\n",
       " (u'#MillennialBedTimeStories', 8),\n",
       " (u'Little', 8),\n",
       " (u'to', 6)]"
      ]
     },
     "execution_count": 137,
     "metadata": {},
     "output_type": "execute_result"
    }
   ],
   "source": [
    "word_counter = Counter(words)\n",
    "word_counter.most_common()[:10]"
   ]
  },
  {
   "cell_type": "code",
   "execution_count": 140,
   "metadata": {},
   "outputs": [],
   "source": [
    "sorted_word_counts = sorted(word_counter.values(), reverse=True)"
   ]
  },
  {
   "cell_type": "code",
   "execution_count": 146,
   "metadata": {},
   "outputs": [
    {
     "name": "stdout",
     "output_type": "stream",
     "text": [
      "[(u'#MillennialBedtimeStories', 66), (u'RT', 41), (u'the', 31), (u'The', 24), (u'and', 18), (u'a', 11), (u'A', 9), (u'#MillennialBedTimeStories', 8), (u'Little', 8), (u'to', 6)]\n",
      "\n",
      "[(u'eatpraystyle', 6), (u'Nalahru', 6), (u'Rizember', 6), (u'FioNoire', 6), (u'BrushingOff', 2), (u'MrRaceBannon', 2), (u'billy4ever9', 2), (u'JeffHendrix88', 1), (u'Superbokka', 1), (u'kevinwxgg', 1)]\n",
      "\n",
      "[(u'MillennialBedtimeStories', 66), (u'MillennialBedTimeStories', 8), (u'WhatStarWarsTaughtMe', 1), (u'Vacuum', 1), (u'Robot', 1), (u'millennialbedtimestories', 1)]\n",
      "\n"
     ]
    }
   ],
   "source": [
    "for item in [words, screen_names, hashtags]:\n",
    "    c = Counter(item)\n",
    "    print(c.most_common()[:10]) # top 10\n",
    "    print"
   ]
  },
  {
   "cell_type": "code",
   "execution_count": 158,
   "metadata": {
    "collapsed": true
   },
   "outputs": [],
   "source": [
    "##Create a prettyprint function to display tuples in a nice tabular format\n",
    "\n",
    "def prettyprint_counts(label, list_of_tuples):\n",
    "    # the header of the table: first write the \"label\", pad it to 20 spaces and center-align the label.\n",
    "    # then, write the word \"Count\", pad it to 6 spaces and center-align it.\n",
    "    print(\"\\n{:^20} | {:^6}\".format(label, \"Count\"))\n",
    "    # print * for 40 times\n",
    "    print(\"*\"*40)\n",
    "    for k,v in list_of_tuples:\n",
    "        # for each word and its count, print the word as left-aligned and the count as right-aligned. \n",
    "        print(\"{:20} | {:>6}\".format(k,v))"
   ]
  },
  {
   "cell_type": "code",
   "execution_count": 156,
   "metadata": {},
   "outputs": [
    {
     "name": "stdout",
     "output_type": "stream",
     "text": [
      "\n",
      "        Word         | Count \n",
      "****************************************\n",
      "#MillennialBedtimeStories |     66\n",
      "RT                   |     41\n",
      "the                  |     31\n",
      "The                  |     24\n",
      "and                  |     18\n",
      "a                    |     11\n",
      "A                    |      9\n",
      "#MillennialBedTimeStories |      8\n",
      "Little               |      8\n",
      "to                   |      6\n",
      "\n",
      "    Screen Name      | Count \n",
      "****************************************\n",
      "eatpraystyle         |      6\n",
      "Nalahru              |      6\n",
      "Rizember             |      6\n",
      "FioNoire             |      6\n",
      "BrushingOff          |      2\n",
      "MrRaceBannon         |      2\n",
      "billy4ever9          |      2\n",
      "JeffHendrix88        |      1\n",
      "Superbokka           |      1\n",
      "kevinwxgg            |      1\n",
      "\n",
      "      Hashtag        | Count \n",
      "****************************************\n",
      "MillennialBedtimeStories |     66\n",
      "MillennialBedTimeStories |      8\n",
      "WhatStarWarsTaughtMe |      1\n",
      "Vacuum               |      1\n",
      "Robot                |      1\n",
      "millennialbedtimestories |      1\n"
     ]
    }
   ],
   "source": [
    "for label, data in (('Word', words), ('Screen Name', screen_names), ('Hashtag', hashtags)):\n",
    "    c = Counter(data)\n",
    "    prettyprint_counts(label, c.most_common()[:10])"
   ]
  },
  {
   "cell_type": "markdown",
   "metadata": {},
   "source": [
    "## Finding the most popular retweets"
   ]
  },
  {
   "cell_type": "code",
   "execution_count": 170,
   "metadata": {
    "collapsed": true
   },
   "outputs": [],
   "source": [
    "retweets = [\n",
    "            # Store out a tuple of these three values ...\n",
    "            (status['retweet_count'], \n",
    "             status['retweeted_status']['user']['screen_name'],\n",
    "             status['text'].replace(\"\\n\",\"\\\\\")) #replace a new line with backslash\n",
    "            \n",
    "            # ... for each status ...\n",
    "            for status in statuses \n",
    "            \n",
    "            # ... so long as the status meets this condition.\n",
    "                if 'retweeted_status' in status\n",
    "           ]"
   ]
  },
  {
   "cell_type": "code",
   "execution_count": 173,
   "metadata": {},
   "outputs": [
    {
     "data": {
      "text/plain": [
       "[(28,\n",
       "  u'MrRaceBannon',\n",
       "  u'RT @MrRaceBannon: The Three Little Pigs  #MillennialBedtimeStories https://t.co/wSsicFEeQx'),\n",
       " (3,\n",
       "  u'kevinwxgg',\n",
       "  u'RT @kevinwxgg: A gender-fluid blonde and the three furry beings who prefer not to be labled. \\\\#MillennialBedtimeStories'),\n",
       " (2,\n",
       "  u'billy4ever9',\n",
       "  u'RT @billy4ever9: #MillennialBedtimeStories Beauty And The Beast\\U0001f607\\U0001f47f https://t.co/AK7A3tRDvP'),\n",
       " (8,\n",
       "  u'HashtagRoundup',\n",
       "  u'RT @HashtagRoundup: HOT HASHTAGS\\\\\\\\#4 USA #MillennialBedtimeStories w/@BrieHxC \\\\\\\\#5 USA #WhatStarWarsTaughtMe w/@HappyHourTags \\\\\\\\#6 USA #Yea\\u2026'),\n",
       " (1,\n",
       "  u'WahkersRevolt',\n",
       "  u'RT @WahkersRevolt: \\u201cThe Very Hungry &amp; Greedy Generation Before Us That Destroyed an Economy &amp; Environment.\\u201d It\\u2019s a vey scary story. #Millen\\u2026')]"
      ]
     },
     "execution_count": 173,
     "metadata": {},
     "output_type": "execute_result"
    }
   ],
   "source": [
    "retweets[:5]"
   ]
  },
  {
   "cell_type": "code",
   "execution_count": 176,
   "metadata": {},
   "outputs": [
    {
     "data": {
      "text/plain": [
       "[(207,\n",
       "  u'DaSkrambledEgg',\n",
       "  u\"RT @DaSkrambledEgg: The Little engine that couldn't even #MillennialBedTimeStories\"),\n",
       " (121,\n",
       "  u'BrushingOff',\n",
       "  u'RT @BrushingOff: Bi-Curious George. #MillennialBedTimeStories https://t.co/4oQXYhsND3'),\n",
       " (85,\n",
       "  u'MrRaceBannon',\n",
       "  u'RT @MrRaceBannon: Hansel and Regretel #MillennialBedtimeStories https://t.co/U06Pr4Ou60'),\n",
       " (79,\n",
       "  u'colbywinters',\n",
       "  u'RT @colbywinters: Little red riding hood AF\\\\ #MillennialBedtimeStories'),\n",
       " (62,\n",
       "  u'iamalmostlegend',\n",
       "  u'RT @iamalmostlegend: Organic Green Eggs &amp; Free Range Ham \\\\#MillennialBedtimeStories')]"
      ]
     },
     "execution_count": 176,
     "metadata": {},
     "output_type": "execute_result"
    }
   ],
   "source": [
    "sorted_retweets = sorted(retweets, reverse=True)\n",
    "sorted_retweets[:5]"
   ]
  },
  {
   "cell_type": "code",
   "execution_count": 185,
   "metadata": {
    "collapsed": true
   },
   "outputs": [],
   "source": [
    "##Create a prettyprint function to display tweets with their retweet counts\n",
    "\n",
    "row_template = \"{:^7} | {:^15} | {:50}\"\n",
    "def prettyprint_tweets(list_of_tuples):\n",
    "    print()\n",
    "    print(row_template.format(\"Count\", \"Screen Name\", \"Text\"))\n",
    "    print(\"*\"*60)\n",
    "    for count, screen_name, text in list_of_tuples:\n",
    "        print(row_template.format(count, screen_name, text[:50].encode('utf-8')))\n",
    "        # split the text of the tweet in up to 3 lines, if needed\n",
    "        if len(text) > 50:\n",
    "            print(row_template.format(\"\", \"\", text[50:100].encode('utf-8')))\n",
    "            if len(text) > 100:\n",
    "                print(row_template.format(\"\", \"\", text[100:].encode('utf-8')))\n"
   ]
  },
  {
   "cell_type": "code",
   "execution_count": 186,
   "metadata": {},
   "outputs": [
    {
     "name": "stdout",
     "output_type": "stream",
     "text": [
      "()\n",
      " Count  |   Screen Name   | Text                                              \n",
      "************************************************************\n",
      "  207   | DaSkrambledEgg  | RT @DaSkrambledEgg: The Little engine that couldn'\n",
      "        |                 | t even #MillennialBedTimeStories                  \n",
      "  121   |   BrushingOff   | RT @BrushingOff: Bi-Curious George. #MillennialBed\n",
      "        |                 | TimeStories https://t.co/4oQXYhsND3               \n",
      "  85    |  MrRaceBannon   | RT @MrRaceBannon: Hansel and Regretel #MillennialB\n",
      "        |                 | edtimeStories https://t.co/U06Pr4Ou60             \n",
      "  79    |  colbywinters   | RT @colbywinters: Little red riding hood AF\\ #Mill\n",
      "        |                 | ennialBedtimeStories                              \n",
      "  62    | iamalmostlegend | RT @iamalmostlegend: Organic Green Eggs &amp; Free\n",
      "        |                 |  Range Ham \\#MillennialBedtimeStories             \n",
      "  57    |   BrushingOff   | RT @BrushingOff: Charlotte's Webcam. #MillennialBe\n",
      "        |                 | dTimeStories                                      \n",
      "  51    |   ImThatDoug    | RT @ImThatDoug: The Bipolar Express\\#MillennialBed\n",
      "        |                 | timeStories                                       \n",
      "  49    |  miguelrcmota   | RT @miguelrcmota: Peter pancakes #MillennialBedtim\n",
      "        |                 | eStories                                          \n",
      "  39    |    tacoeater    | RT @tacoeater: The Cat in the MAGA Hat  #Millennia\n",
      "        |                 | lBedTimeStories                                   \n",
      "  30    |    LibsNoFun    | RT @LibsNoFun: Winners aren’t Losers #MillennialBe\n",
      "        |                 | dtimeStories https://t.co/xGomGQjqMn              \n",
      "  28    |  MrRaceBannon   | RT @MrRaceBannon: The Three Little Pigs  #Millenni\n",
      "        |                 | alBedtimeStories https://t.co/wSsicFEeQx          \n",
      "  19    |  JeffHendrix88  | RT @JeffHendrix88: #MillennialBedtimeStories  The \n",
      "        |                 | Prince of Tide Pods                               \n",
      "  19    |    Antika0n     | RT @Antika0n: Snow White Privilege and the Seven S\n",
      "        |                 | hort Undocumented Laborers.\\#millennialbedtimestor\n",
      "        |                 | ies                                               \n",
      "  11    |  TheRebelDave   | RT @TheRebelDave: The Little Old Woman Who Lived I\n",
      "        |                 | n A Shoe With Two Roommates Because Rent Was $3200\n",
      "        |                 |  A Month #MillennialBedtimeStories                \n",
      "  11    |  JasonSpellman  | RT @JasonSpellman: Jack And The Meme Stock  #Mille\n",
      "        |                 | nnialBedtimeStories https://t.co/uguljQkpCi       \n",
      "  10    | SoCalEricLittle | RT @SoCalEricLittle: The Three Lit Pigs\\\\ #Millenn\n",
      "        |                 | ialBedtimeStories                                 \n",
      "   8    |  InsomniaAnnie  | RT @InsomniaAnnie: Rapunzel With the Good Hair  #M\n",
      "        |                 | illennialBedtimeStories                           \n",
      "   8    | HashtagRoundup  | RT @HashtagRoundup: HOT HASHTAGS\\\\#4 USA #Millenni\n",
      "        |                 | alBedtimeStories w/@BrieHxC \\\\#5 USA #WhatStarWars\n",
      "        |                 | TaughtMe w/@HappyHourTags \\\\#6 USA #Yea…        \n",
      "   7    |   billy4ever9   | RT @billy4ever9: #MillennialBedtimeStories The Lad\n",
      "        |                 | y And The Tramp👀 https://t.co/2zLiLlvnqX       \n",
      "   5    |    sjredmond    | RT @sjredmond: Curious George Quits His Job and Go\n",
      "        |                 | es On Vacation. #MillennialBedtimeStories         \n",
      "   5    |  TheManaSource  | RT @TheManaSource: 'Twas the night before graduati\n",
      "        |                 | on,\\when all through the campus\\*ring ring*\\*RING \n",
      "        |                 | RING*\\\"Hello?\"\\\"Hello. This is SallieMa…        \n",
      "   5    |    Carlswall    | RT @Carlswall: Humpty Dumpty built a wall\\Humpty D\n",
      "        |                 | umpty had a great fall\\He got offended when some y\n",
      "        |                 | oungsters laughed at him trying to get…         \n",
      "   4    |   nathanplatt   | RT @nathanplatt: #MillennialBedTimeStories \\\\The E\n",
      "        |                 | ntitled Little Engine That Couldn't https://t.co/1\n",
      "        |                 | FWCKUlIHs                                         \n",
      "   4    |      QSull      | RT @QSull: #MillennialBedtimeStories and now kids,\n",
      "        |                 |  the Baby Boomers who had success working one job \n",
      "        |                 | &amp; being able 2 support a wife, house, &amp;…\n",
      "   3    |  mina_masters   | RT @mina_masters: The princess and the organic pea\n",
      "        |                 |  \\#MillennialBedtimeStories                       \n",
      "   3    |    kevinwxgg    | RT @kevinwxgg: A gender-fluid blonde and the three\n",
      "        |                 |  furry beings who prefer not to be labled. \\#Mille\n",
      "        |                 | nnialBedtimeStories                               \n",
      "   3    |    hburrito_    | RT @hburrito_: And they all lived with crippling s\n",
      "        |                 | tudent debt in a one bedroom apartment with three \n",
      "        |                 | roommates forever. The end. #Millennial…        \n",
      "   2    |   billy4ever9   | RT @billy4ever9: #MillennialBedtimeStories Beauty \n",
      "        |                 | And The Beast😇👿 https://t.co/AK7A3tRDvP     \n",
      "   2    |   Superbokka    | RT @Superbokka: #MillennialBedtimeStories I Phone \n",
      "        |                 | I Phone in my hand Who takes the best selfies in t\n",
      "        |                 | he Land.                                          \n",
      "   2    |    Rizember     | RT @Rizember: @Nalahru @eatpraystyle @FioNoire A K\n",
      "        |                 | estrel for Kanye #MillennialBedtimeStories        \n",
      "   2    |     Nalahru     | RT @Nalahru: @Rizember @eatpraystyle @FioNoire And\n",
      "        |                 |  the princess lived happily ever after as an indep\n",
      "        |                 | endent woman who don't need no man.  #M…        \n",
      "   2    |  Bernlennials   | RT @Bernlennials: Goodnight capitalism #Millennial\n",
      "        |                 | BedtimeStories                                    \n",
      "   1    |    sashantix    | RT @sashantix: Goldilocks and the three \"B**ch Whe\n",
      "        |                 | re's\" #MillennialBedtimeStories                   \n",
      "   1    |  WahkersRevolt  | RT @WahkersRevolt: “The Very Hungry &amp; Greedy G\n",
      "        |                 | eneration Before Us That Destroyed an Economy &amp\n",
      "        |                 | ; Environment.” It’s a vey scary story. #Millen…\n",
      "   1    |      UWBio      | RT @UWBio: Where the Wild Things Are: A Non-Corpor\n",
      "        |                 | ate Coffee House\\#MillennialBedtimeStories        \n",
      "   1    |   TifoPodcast   | RT @TifoPodcast: How Rapunzel singlehandedly kille\n",
      "        |                 | d the ladder industry #MillennialBedtimeStories   \n",
      "   1    |    Rizember     | RT @Rizember: @Nalahru @eatpraystyle @FioNoire LOL\n",
      "        |                 | ita #MillennialBedtimeStories                     \n",
      "   1    |    Old_Valet    | RT @Old_Valet: #MillennialBedTimeStories Lmao ,you\n",
      "        |                 |  are on your early 30's and you still need a bedti\n",
      "        |                 | me story?                                         \n",
      "   1    |     Nalahru     | RT @Nalahru: @Rizember @eatpraystyle @FioNoire 😂�\n",
      "        |                 | �101 LMAOS #MillennialBedtimeStories            \n",
      "   1    |     Nalahru     | RT @Nalahru: @Rizember @eatpraystyle @FioNoire Onc\n",
      "        |                 | e upon a pole #MillennialBedtimeStories           \n",
      "   1    |     Nalahru     | RT @Nalahru: @Rizember @eatpraystyle @FioNoire Cha\n",
      "        |                 | rlotte's web of lovers #MillennialBedtimeStories  \n"
     ]
    }
   ],
   "source": [
    "prettyprint_tweets(sorted_retweets)"
   ]
  }
 ],
 "metadata": {
  "kernelspec": {
   "display_name": "Python 2",
   "language": "python",
   "name": "python2"
  },
  "language_info": {
   "codemirror_mode": {
    "name": "ipython",
    "version": 2
   },
   "file_extension": ".py",
   "mimetype": "text/x-python",
   "name": "python",
   "nbconvert_exporter": "python",
   "pygments_lexer": "ipython2",
   "version": "2.7.13"
  }
 },
 "nbformat": 4,
 "nbformat_minor": 2
}
